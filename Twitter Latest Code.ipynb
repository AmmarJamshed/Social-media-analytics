{
 "cells": [
  {
   "cell_type": "code",
   "execution_count": 1,
   "metadata": {},
   "outputs": [
    {
     "name": "stdout",
     "output_type": "stream",
     "text": [
      "<twitter.api.Twitter object at 0x7fcbf4736940>\n"
     ]
    }
   ],
   "source": [
    "import twitter\n",
    "\n",
    "# Go to https://developer.twitter.com/en/apps to create an app and get values\n",
    "# for these credentials, which you'll need to provide in place of these\n",
    "# empty string values that are defined as placeholders.\n",
    "# See https://developer.twitter.com/en/docs/basics/authentication/overview/oauth\n",
    "# for more information on Twitter's OAuth implementation.\n",
    "\n",
    "CONSUMER_KEY = 'ZzZKRgcj60firpUPzh9jgBGhO'\n",
    "CONSUMER_SECRET = '0ShSdfeK3UPCXLufZPN9LdKdC26ZqMTmxBwNrbHATnQZqCBMhd'\n",
    "OAUTH_TOKEN ='836821070606925824-y49jhJAru1xfzqRJaCCMSCwgmyzlOJE' \n",
    "OAUTH_TOKEN_SECRET = 'QwH6dZjuur89RjCrC2PF1aC1FjqQa08h7w0vYyJSYIx2E'\n",
    "\n",
    "auth = twitter.oauth.OAuth(OAUTH_TOKEN, OAUTH_TOKEN_SECRET,\n",
    "                          CONSUMER_KEY, CONSUMER_SECRET)\n",
    "twitter_api = twitter.Twitter(auth=auth)\n",
    "\n",
    "\n",
    "# Nothing to see by displaying twitter_api except that it's now a\n",
    "# defined variable\n",
    "\n",
    "print(twitter_api)"
   ]
  },
  {
   "cell_type": "code",
   "execution_count": 2,
   "metadata": {},
   "outputs": [
    {
     "name": "stdout",
     "output_type": "stream",
     "text": [
      "Defaulting to user installation because normal site-packages is not writeable\n",
      "Requirement already satisfied: twitter in ./.local/lib/python3.8/site-packages (1.19.6)\n",
      "Requirement already satisfied: certifi in /opt/conda/envs/python/lib/python3.8/site-packages (from twitter) (2020.6.20)\n",
      "Note: you may need to restart the kernel to use updated packages.\n"
     ]
    }
   ],
   "source": [
    "pip install twitter"
   ]
  },
  {
   "cell_type": "code",
   "execution_count": 3,
   "metadata": {},
   "outputs": [
    {
     "name": "stdout",
     "output_type": "stream",
     "text": [
      "[{'trends': [{'name': 'Rashford', 'url': 'http://twitter.com/search?q=Rashford', 'promoted_content': None, 'query': 'Rashford', 'tweet_volume': 235147}, {'name': '#MUNMCI', 'url': 'http://twitter.com/search?q=%23MUNMCI', 'promoted_content': None, 'query': '%23MUNMCI', 'tweet_volume': 233558}, {'name': '#ManchesterDerby', 'url': 'http://twitter.com/search?q=%23ManchesterDerby', 'promoted_content': None, 'query': '%23ManchesterDerby', 'tweet_volume': 73500}, {'name': '#MUFC', 'url': 'http://twitter.com/search?q=%23MUFC', 'promoted_content': None, 'query': '%23MUFC', 'tweet_volume': 261953}, {'name': '#大病院占拠', 'url': 'http://twitter.com/search?q=%23%E5%A4%A7%E7%97%85%E9%99%A2%E5%8D%A0%E6%8B%A0', 'promoted_content': None, 'query': '%23%E5%A4%A7%E7%97%85%E9%99%A2%E5%8D%A0%E6%8B%A0', 'tweet_volume': 142702}, {'name': 'Arsenal', 'url': 'http://twitter.com/search?q=Arsenal', 'promoted_content': None, 'query': 'Arsenal', 'tweet_volume': 177494}, {'name': 'Haaland', 'url': 'http://twitter.com/search?q=Haaland', 'promoted_content': None, 'query': 'Haaland', 'tweet_volume': 97454}, {'name': '#GGMU', 'url': 'http://twitter.com/search?q=%23GGMU', 'promoted_content': None, 'query': '%23GGMU', 'tweet_volume': 16146}, {'name': 'Ten Hag', 'url': 'http://twitter.com/search?q=%22Ten+Hag%22', 'promoted_content': None, 'query': '%22Ten+Hag%22', 'tweet_volume': 137734}, {'name': 'Casemiro', 'url': 'http://twitter.com/search?q=Casemiro', 'promoted_content': None, 'query': 'Casemiro', 'tweet_volume': 81750}, {'name': 'Garnacho', 'url': 'http://twitter.com/search?q=Garnacho', 'promoted_content': None, 'query': 'Garnacho', 'tweet_volume': 61015}, {'name': 'Guardiola', 'url': 'http://twitter.com/search?q=Guardiola', 'promoted_content': None, 'query': 'Guardiola', 'tweet_volume': 43482}, {'name': 'Akanji', 'url': 'http://twitter.com/search?q=Akanji', 'promoted_content': None, 'query': 'Akanji', 'tweet_volume': 16764}, {'name': 'Grealish', 'url': 'http://twitter.com/search?q=Grealish', 'promoted_content': None, 'query': 'Grealish', 'tweet_volume': 31581}, {'name': 'Man U', 'url': 'http://twitter.com/search?q=%22Man+U%22', 'promoted_content': None, 'query': '%22Man+U%22', 'tweet_volume': 42516}, {'name': 'Old Trafford', 'url': 'http://twitter.com/search?q=%22Old+Trafford%22', 'promoted_content': None, 'query': '%22Old+Trafford%22', 'tweet_volume': 49787}, {'name': 'Man City', 'url': 'http://twitter.com/search?q=%22Man+City%22', 'promoted_content': None, 'query': '%22Man+City%22', 'tweet_volume': 101513}, {'name': 'Ederson', 'url': 'http://twitter.com/search?q=Ederson', 'promoted_content': None, 'query': 'Ederson', 'tweet_volume': 16851}, {'name': 'Martial', 'url': 'http://twitter.com/search?q=Martial', 'promoted_content': None, 'query': 'Martial', 'tweet_volume': 40590}, {'name': 'راشفورد', 'url': 'http://twitter.com/search?q=%D8%B1%D8%A7%D8%B4%D9%81%D9%88%D8%B1%D8%AF', 'promoted_content': None, 'query': '%D8%B1%D8%A7%D8%B4%D9%81%D9%88%D8%B1%D8%AF', 'tweet_volume': 15422}, {'name': 'Bruno Fernandes', 'url': 'http://twitter.com/search?q=%22Bruno+Fernandes%22', 'promoted_content': None, 'query': '%22Bruno+Fernandes%22', 'tweet_volume': 34812}, {'name': 'Henderson', 'url': 'http://twitter.com/search?q=Henderson', 'promoted_content': None, 'query': 'Henderson', 'tweet_volume': None}, {'name': 'Mitoma', 'url': 'http://twitter.com/search?q=Mitoma', 'promoted_content': None, 'query': 'Mitoma', 'tweet_volume': None}, {'name': 'اليونايتد', 'url': 'http://twitter.com/search?q=%D8%A7%D9%84%D9%8A%D9%88%D9%86%D8%A7%D9%8A%D8%AA%D8%AF', 'promoted_content': None, 'query': '%D8%A7%D9%84%D9%8A%D9%88%D9%86%D8%A7%D9%8A%D8%AA%D8%AF', 'tweet_volume': 11102}, {'name': 'Brighton', 'url': 'http://twitter.com/search?q=Brighton', 'promoted_content': None, 'query': 'Brighton', 'tweet_volume': 52399}, {'name': '菊池風磨', 'url': 'http://twitter.com/search?q=%E8%8F%8A%E6%B1%A0%E9%A2%A8%E7%A3%A8', 'promoted_content': None, 'query': '%E8%8F%8A%E6%B1%A0%E9%A2%A8%E7%A3%A8', 'tweet_volume': 16370}, {'name': 'Julián', 'url': 'http://twitter.com/search?q=Juli%C3%A1n', 'promoted_content': None, 'query': 'Juli%C3%A1n', 'tweet_volume': 56387}, {'name': 'De Bruyne', 'url': 'http://twitter.com/search?q=%22De+Bruyne%22', 'promoted_content': None, 'query': '%22De+Bruyne%22', 'tweet_volume': 20504}, {'name': 'Dnipro', 'url': 'http://twitter.com/search?q=Dnipro', 'promoted_content': None, 'query': 'Dnipro', 'tweet_volume': 85630}, {'name': 'Malacia', 'url': 'http://twitter.com/search?q=Malacia', 'promoted_content': None, 'query': 'Malacia', 'tweet_volume': 15168}, {'name': 'مانشستر', 'url': 'http://twitter.com/search?q=%D9%85%D8%A7%D9%86%D8%B4%D8%B3%D8%AA%D8%B1', 'promoted_content': None, 'query': '%D9%85%D8%A7%D9%86%D8%B4%D8%B3%D8%AA%D8%B1', 'tweet_volume': 21173}, {'name': 'Rodri', 'url': 'http://twitter.com/search?q=Rodri', 'promoted_content': None, 'query': 'Rodri', 'tweet_volume': 17400}, {'name': 'ブライトン', 'url': 'http://twitter.com/search?q=%E3%83%96%E3%83%A9%E3%82%A4%E3%83%88%E3%83%B3', 'promoted_content': None, 'query': '%E3%83%96%E3%83%A9%E3%82%A4%E3%83%88%E3%83%B3', 'tweet_volume': 11684}, {'name': 'Offside', 'url': 'http://twitter.com/search?q=Offside', 'promoted_content': None, 'query': 'Offside', 'tweet_volume': 71614}, {'name': 'Luke Shaw', 'url': 'http://twitter.com/search?q=%22Luke+Shaw%22', 'promoted_content': None, 'query': '%22Luke+Shaw%22', 'tweet_volume': None}, {'name': 'Konate', 'url': 'http://twitter.com/search?q=Konate', 'promoted_content': None, 'query': 'Konate', 'tweet_volume': None}, {'name': '風磨くん', 'url': 'http://twitter.com/search?q=%E9%A2%A8%E7%A3%A8%E3%81%8F%E3%82%93', 'promoted_content': None, 'query': '%E9%A2%A8%E7%A3%A8%E3%81%8F%E3%82%93', 'tweet_volume': None}, {'name': 'Wan Bissaka', 'url': 'http://twitter.com/search?q=%22Wan+Bissaka%22', 'promoted_content': None, 'query': '%22Wan+Bissaka%22', 'tweet_volume': None}, {'name': 'Foden', 'url': 'http://twitter.com/search?q=Foden', 'promoted_content': None, 'query': 'Foden', 'tweet_volume': 18108}, {'name': 'ユナイテッド', 'url': 'http://twitter.com/search?q=%E3%83%A6%E3%83%8A%E3%82%A4%E3%83%86%E3%83%83%E3%83%89', 'promoted_content': None, 'query': '%E3%83%A6%E3%83%8A%E3%82%A4%E3%83%86%E3%83%83%E3%83%89', 'tweet_volume': 12503}, {'name': '火古戦場', 'url': 'http://twitter.com/search?q=%E7%81%AB%E5%8F%A4%E6%88%A6%E5%A0%B4', 'promoted_content': None, 'query': '%E7%81%AB%E5%8F%A4%E6%88%A6%E5%A0%B4', 'tweet_volume': None}, {'name': 'Rashy', 'url': 'http://twitter.com/search?q=Rashy', 'promoted_content': None, 'query': 'Rashy', 'tweet_volume': None}, {'name': 'السيتي', 'url': 'http://twitter.com/search?q=%D8%A7%D9%84%D8%B3%D9%8A%D8%AA%D9%8A', 'promoted_content': None, 'query': '%D8%A7%D9%84%D8%B3%D9%8A%D8%AA%D9%8A', 'tweet_volume': 13562}, {'name': 'Josef', 'url': 'http://twitter.com/search?q=Josef', 'promoted_content': None, 'query': 'Josef', 'tweet_volume': None}, {'name': 'Varane', 'url': 'http://twitter.com/search?q=Varane', 'promoted_content': None, 'query': 'Varane', 'tweet_volume': 13708}, {'name': 'Howard Webb', 'url': 'http://twitter.com/search?q=%22Howard+Webb%22', 'promoted_content': None, 'query': '%22Howard+Webb%22', 'tweet_volume': None}, {'name': 'Eriksen', 'url': 'http://twitter.com/search?q=Eriksen', 'promoted_content': None, 'query': 'Eriksen', 'tweet_volume': 13394}, {'name': 'おやーんず', 'url': 'http://twitter.com/search?q=%E3%81%8A%E3%82%84%E3%83%BC%E3%82%93%E3%81%9A', 'promoted_content': None, 'query': '%E3%81%8A%E3%82%84%E3%83%BC%E3%82%93%E3%81%9A', 'tweet_volume': None}, {'name': '10 DAYS FOR PATHAAN', 'url': 'http://twitter.com/search?q=%2210+DAYS+FOR+PATHAAN%22', 'promoted_content': None, 'query': '%2210+DAYS+FOR+PATHAAN%22', 'tweet_volume': 27478}, {'name': '第359回', 'url': 'http://twitter.com/search?q=%E7%AC%AC359%E5%9B%9E', 'promoted_content': None, 'query': '%E7%AC%AC359%E5%9B%9E', 'tweet_volume': None}], 'as_of': '2023-01-14T15:42:24Z', 'created_at': '2023-01-13T08:06:04Z', 'locations': [{'name': 'Worldwide', 'woeid': 1}]}]\n",
      "\n",
      "[{'trends': [{'name': 'Rashford', 'url': 'http://twitter.com/search?q=Rashford', 'promoted_content': None, 'query': 'Rashford', 'tweet_volume': 235147}, {'name': '#ManchesterDerby', 'url': 'http://twitter.com/search?q=%23ManchesterDerby', 'promoted_content': None, 'query': '%23ManchesterDerby', 'tweet_volume': 73500}, {'name': '#MUNMCI', 'url': 'http://twitter.com/search?q=%23MUNMCI', 'promoted_content': None, 'query': '%23MUNMCI', 'tweet_volume': 233558}, {'name': '#MUFC', 'url': 'http://twitter.com/search?q=%23MUFC', 'promoted_content': None, 'query': '%23MUFC', 'tweet_volume': 261953}, {'name': '#GGMU', 'url': 'http://twitter.com/search?q=%23GGMU', 'promoted_content': None, 'query': '%23GGMU', 'tweet_volume': 16146}, {'name': '#Caturday', 'url': 'http://twitter.com/search?q=%23Caturday', 'promoted_content': None, 'query': '%23Caturday', 'tweet_volume': None}, {'name': 'Arsenal', 'url': 'http://twitter.com/search?q=Arsenal', 'promoted_content': None, 'query': 'Arsenal', 'tweet_volume': 176623}, {'name': 'Casemiro', 'url': 'http://twitter.com/search?q=Casemiro', 'promoted_content': None, 'query': 'Casemiro', 'tweet_volume': 81750}, {'name': 'Man U', 'url': 'http://twitter.com/search?q=%22Man+U%22', 'promoted_content': None, 'query': '%22Man+U%22', 'tweet_volume': 42516}, {'name': 'Haaland', 'url': 'http://twitter.com/search?q=Haaland', 'promoted_content': None, 'query': 'Haaland', 'tweet_volume': 97454}, {'name': 'Ten Hag', 'url': 'http://twitter.com/search?q=%22Ten+Hag%22', 'promoted_content': None, 'query': '%22Ten+Hag%22', 'tweet_volume': 137734}, {'name': 'Garnacho', 'url': 'http://twitter.com/search?q=Garnacho', 'promoted_content': None, 'query': 'Garnacho', 'tweet_volume': 60579}, {'name': 'Grealish', 'url': 'http://twitter.com/search?q=Grealish', 'promoted_content': None, 'query': 'Grealish', 'tweet_volume': 31650}, {'name': 'Man City', 'url': 'http://twitter.com/search?q=%22Man+City%22', 'promoted_content': None, 'query': '%22Man+City%22', 'tweet_volume': 101513}, {'name': 'Ederson', 'url': 'http://twitter.com/search?q=Ederson', 'promoted_content': None, 'query': 'Ederson', 'tweet_volume': 16851}, {'name': 'Martial', 'url': 'http://twitter.com/search?q=Martial', 'promoted_content': None, 'query': 'Martial', 'tweet_volume': 40590}, {'name': 'Akanji', 'url': 'http://twitter.com/search?q=Akanji', 'promoted_content': None, 'query': 'Akanji', 'tweet_volume': 16764}, {'name': 'Old Trafford', 'url': 'http://twitter.com/search?q=%22Old+Trafford%22', 'promoted_content': None, 'query': '%22Old+Trafford%22', 'tweet_volume': 49787}, {'name': 'Snopes', 'url': 'http://twitter.com/search?q=Snopes', 'promoted_content': None, 'query': 'Snopes', 'tweet_volume': None}, {'name': 'Mitoma', 'url': 'http://twitter.com/search?q=Mitoma', 'promoted_content': None, 'query': 'Mitoma', 'tweet_volume': None}, {'name': 'Good Saturday', 'url': 'http://twitter.com/search?q=%22Good+Saturday%22', 'promoted_content': None, 'query': '%22Good+Saturday%22', 'tweet_volume': 26030}, {'name': 'Brighton', 'url': 'http://twitter.com/search?q=Brighton', 'promoted_content': None, 'query': 'Brighton', 'tweet_volume': 52399}, {'name': 'Konate', 'url': 'http://twitter.com/search?q=Konate', 'promoted_content': None, 'query': 'Konate', 'tweet_volume': None}, {'name': 'Rodri', 'url': 'http://twitter.com/search?q=Rodri', 'promoted_content': None, 'query': 'Rodri', 'tweet_volume': 17400}, {'name': 'Fernandes', 'url': 'http://twitter.com/search?q=Fernandes', 'promoted_content': None, 'query': 'Fernandes', 'tweet_volume': 53442}, {'name': 'Malacia', 'url': 'http://twitter.com/search?q=Malacia', 'promoted_content': None, 'query': 'Malacia', 'tweet_volume': 15168}, {'name': 'Hendo', 'url': 'http://twitter.com/search?q=Hendo', 'promoted_content': None, 'query': 'Hendo', 'tweet_volume': None}, {'name': 'Antony', 'url': 'http://twitter.com/search?q=Antony', 'promoted_content': None, 'query': 'Antony', 'tweet_volume': 23993}, {'name': 'Henderson', 'url': 'http://twitter.com/search?q=Henderson', 'promoted_content': None, 'query': 'Henderson', 'tweet_volume': None}, {'name': 'Tim Howard', 'url': 'http://twitter.com/search?q=%22Tim+Howard%22', 'promoted_content': None, 'query': '%22Tim+Howard%22', 'tweet_volume': None}, {'name': 'Maine', 'url': 'http://twitter.com/search?q=Maine', 'promoted_content': None, 'query': 'Maine', 'tweet_volume': 25347}, {'name': 'Hobby Lobby', 'url': 'http://twitter.com/search?q=%22Hobby+Lobby%22', 'promoted_content': None, 'query': '%22Hobby+Lobby%22', 'tweet_volume': None}, {'name': 'Mahrez', 'url': 'http://twitter.com/search?q=Mahrez', 'promoted_content': None, 'query': 'Mahrez', 'tweet_volume': 13773}, {'name': 'LULLABY CONCEPT PHOTO', 'url': 'http://twitter.com/search?q=%22LULLABY+CONCEPT+PHOTO%22', 'promoted_content': None, 'query': '%22LULLABY+CONCEPT+PHOTO%22', 'tweet_volume': 138934}, {'name': 'Foden', 'url': 'http://twitter.com/search?q=Foden', 'promoted_content': None, 'query': 'Foden', 'tweet_volume': 18063}, {'name': 'MEET DAY', 'url': 'http://twitter.com/search?q=%22MEET+DAY%22', 'promoted_content': None, 'query': '%22MEET+DAY%22', 'tweet_volume': 13344}, {'name': 'Eriksen', 'url': 'http://twitter.com/search?q=Eriksen', 'promoted_content': None, 'query': 'Eriksen', 'tweet_volume': 13394}, {'name': 'Luke Shaw', 'url': 'http://twitter.com/search?q=%22Luke+Shaw%22', 'promoted_content': None, 'query': '%22Luke+Shaw%22', 'tweet_volume': None}, {'name': 'PGMOL', 'url': 'http://twitter.com/search?q=PGMOL', 'promoted_content': None, 'query': 'PGMOL', 'tweet_volume': None}, {'name': 'Dnipro', 'url': 'http://twitter.com/search?q=Dnipro', 'promoted_content': None, 'query': 'Dnipro', 'tweet_volume': 85630}, {'name': 'Guardiola', 'url': 'http://twitter.com/search?q=Guardiola', 'promoted_content': None, 'query': 'Guardiola', 'tweet_volume': 43482}, {'name': 'Dave Grohl', 'url': 'http://twitter.com/search?q=%22Dave+Grohl%22', 'promoted_content': None, 'query': '%22Dave+Grohl%22', 'tweet_volume': None}, {'name': 'Varane', 'url': 'http://twitter.com/search?q=Varane', 'promoted_content': None, 'query': 'Varane', 'tweet_volume': 13708}, {'name': 'Caicedo', 'url': 'http://twitter.com/search?q=Caicedo', 'promoted_content': None, 'query': 'Caicedo', 'tweet_volume': None}, {'name': 'De Bruyne', 'url': 'http://twitter.com/search?q=%22De+Bruyne%22', 'promoted_content': None, 'query': '%22De+Bruyne%22', 'tweet_volume': 20544}, {'name': 'Cancelo', 'url': 'http://twitter.com/search?q=Cancelo', 'promoted_content': None, 'query': 'Cancelo', 'tweet_volume': 14275}, {'name': 'Daily Quordle 355', 'url': 'http://twitter.com/search?q=%22Daily+Quordle+355%22', 'promoted_content': None, 'query': '%22Daily+Quordle+355%22', 'tweet_volume': None}, {'name': 'Bernardo', 'url': 'http://twitter.com/search?q=Bernardo', 'promoted_content': None, 'query': 'Bernardo', 'tweet_volume': 19305}, {'name': 'Wan Bissaka', 'url': 'http://twitter.com/search?q=%22Wan+Bissaka%22', 'promoted_content': None, 'query': '%22Wan+Bissaka%22', 'tweet_volume': None}, {'name': 'COME ON UNITED', 'url': 'http://twitter.com/search?q=%22COME+ON+UNITED%22', 'promoted_content': None, 'query': '%22COME+ON+UNITED%22', 'tweet_volume': 13910}], 'as_of': '2023-01-14T15:42:24Z', 'created_at': '2023-01-13T08:06:04Z', 'locations': [{'name': 'United States', 'woeid': 23424977}]}]\n"
     ]
    }
   ],
   "source": [
    "# The Yahoo! Where On Earth ID for the entire world is 1.\n",
    "# See https://dev.twitter.com/docs/api/1.1/get/trends/place and\n",
    "# http://developer.yahoo.com/geo/geoplanet/\n",
    "\n",
    "WORLD_WOE_ID = 1\n",
    "US_WOE_ID = 23424977 #The code has changed in the WOEIDS: https://www.woeids.com/\n",
    "\n",
    "# Prefix ID with the underscore for query string parameterization.\n",
    "# Without the underscore, the twitter package appends the ID value\n",
    "# to the URL itself as a special case keyword argument.\n",
    "\n",
    "world_trends = twitter_api.trends.place(_id=WORLD_WOE_ID)\n",
    "us_trends = twitter_api.trends.place(_id=US_WOE_ID)\n",
    "\n",
    "print(world_trends)\n",
    "print()\n",
    "print(us_trends)"
   ]
  },
  {
   "cell_type": "code",
   "execution_count": 4,
   "metadata": {},
   "outputs": [
    {
     "name": "stdout",
     "output_type": "stream",
     "text": [
      "Rashford\n",
      "#MUNMCI\n",
      "#ManchesterDerby\n",
      "#MUFC\n",
      "#大病院占拠\n",
      "Arsenal\n",
      "Haaland\n",
      "#GGMU\n",
      "Ten Hag\n",
      "Casemiro\n",
      "Garnacho\n",
      "Guardiola\n",
      "Akanji\n",
      "Grealish\n",
      "Man U\n",
      "Old Trafford\n",
      "Man City\n",
      "Ederson\n",
      "Martial\n",
      "راشفورد\n",
      "Bruno Fernandes\n",
      "Henderson\n",
      "Mitoma\n",
      "اليونايتد\n",
      "Brighton\n",
      "菊池風磨\n",
      "Julián\n",
      "De Bruyne\n",
      "Dnipro\n",
      "Malacia\n",
      "مانشستر\n",
      "Rodri\n",
      "ブライトン\n",
      "Offside\n",
      "Luke Shaw\n",
      "Konate\n",
      "風磨くん\n",
      "Wan Bissaka\n",
      "Foden\n",
      "ユナイテッド\n",
      "火古戦場\n",
      "Rashy\n",
      "السيتي\n",
      "Josef\n",
      "Varane\n",
      "Howard Webb\n",
      "Eriksen\n",
      "おやーんず\n",
      "10 DAYS FOR PATHAAN\n",
      "第359回\n"
     ]
    }
   ],
   "source": [
    "for trend in world_trends[0]['trends']:\n",
    "    print(trend['name'])"
   ]
  },
  {
   "cell_type": "code",
   "execution_count": 5,
   "metadata": {},
   "outputs": [
    {
     "name": "stdout",
     "output_type": "stream",
     "text": [
      "Rashford\n",
      "#ManchesterDerby\n",
      "#MUNMCI\n",
      "#MUFC\n",
      "#GGMU\n",
      "#Caturday\n",
      "Arsenal\n",
      "Casemiro\n",
      "Man U\n",
      "Haaland\n",
      "Ten Hag\n",
      "Garnacho\n",
      "Grealish\n",
      "Man City\n",
      "Ederson\n",
      "Martial\n",
      "Akanji\n",
      "Old Trafford\n",
      "Snopes\n",
      "Mitoma\n",
      "Good Saturday\n",
      "Brighton\n",
      "Konate\n",
      "Rodri\n",
      "Fernandes\n",
      "Malacia\n",
      "Hendo\n",
      "Antony\n",
      "Henderson\n",
      "Tim Howard\n",
      "Maine\n",
      "Hobby Lobby\n",
      "Mahrez\n",
      "LULLABY CONCEPT PHOTO\n",
      "Foden\n",
      "MEET DAY\n",
      "Eriksen\n",
      "Luke Shaw\n",
      "PGMOL\n",
      "Dnipro\n",
      "Guardiola\n",
      "Dave Grohl\n",
      "Varane\n",
      "Caicedo\n",
      "De Bruyne\n",
      "Cancelo\n",
      "Daily Quordle 355\n",
      "Bernardo\n",
      "Wan Bissaka\n",
      "COME ON UNITED\n"
     ]
    }
   ],
   "source": [
    "for trend in us_trends[0]['trends']:\n",
    "    print(trend['name'])"
   ]
  },
  {
   "cell_type": "code",
   "execution_count": 6,
   "metadata": {},
   "outputs": [
    {
     "name": "stdout",
     "output_type": "stream",
     "text": [
      "{'Grealish', 'Martial', 'Ederson', 'Rashford', 'De Bruyne', 'Rodri', 'Old Trafford', 'Konate', 'Arsenal', 'Man City', 'Henderson', '#MUFC', 'Varane', '#GGMU', 'Man U', 'Akanji', 'Dnipro', '#ManchesterDerby', 'Brighton', 'Mitoma', 'Luke Shaw', 'Guardiola', 'Wan Bissaka', 'Garnacho', 'Malacia', 'Foden', 'Casemiro', 'Eriksen', 'Haaland', '#MUNMCI', 'Ten Hag'}\n"
     ]
    }
   ],
   "source": [
    "world_trends_set = set([trend['name'] \n",
    "                        for trend in world_trends[0]['trends']])\n",
    "\n",
    "us_trends_set = set([trend['name'] \n",
    "                     for trend in us_trends[0]['trends']]) \n",
    "\n",
    "common_trends = world_trends_set.intersection(us_trends_set)\n",
    "\n",
    "print(common_trends)"
   ]
  },
  {
   "cell_type": "code",
   "execution_count": 7,
   "metadata": {},
   "outputs": [
    {
     "name": "stdout",
     "output_type": "stream",
     "text": [
      "Length of statuses 100\n",
      "Length of statuses 200\n",
      "Length of statuses 300\n",
      "Length of statuses 400\n",
      "Length of statuses 500\n",
      "{\n",
      " \"created_at\": \"Sat Jan 14 15:40:36 +0000 2023\",\n",
      " \"id\": 1614286368502583296,\n",
      " \"id_str\": \"1614286368502583296\",\n",
      " \"text\": \"RT @hiduplagi_id: Meskipun udah gede gini, ada banyak hal yang kita nggak tau dan cuma bisa dapet dari Ibu. \\n\\nDi spesial Hari Ibu, apa hal\\u2026\",\n",
      " \"truncated\": false,\n",
      " \"entities\": {\n",
      "  \"hashtags\": [],\n",
      "  \"symbols\": [],\n",
      "  \"user_mentions\": [\n",
      "   {\n",
      "    \"screen_name\": \"hiduplagi_id\",\n",
      "    \"name\": \"Hidup Lagi\",\n",
      "    \"id\": 1306484819233132544,\n",
      "    \"id_str\": \"1306484819233132544\",\n",
      "    \"indices\": [\n",
      "     3,\n",
      "     16\n",
      "    ]\n",
      "   }\n",
      "  ],\n",
      "  \"urls\": []\n",
      " },\n",
      " \"metadata\": {\n",
      "  \"iso_language_code\": \"in\",\n",
      "  \"result_type\": \"recent\"\n",
      " },\n",
      " \"source\": \"<a href=\\\"https://mobile.twitter.com\\\" rel=\\\"nofollow\\\">Twitter Web App</a>\",\n",
      " \"in_reply_to_status_id\": null,\n",
      " \"in_reply_to_status_id_str\": null,\n",
      " \"in_reply_to_user_id\": null,\n",
      " \"in_reply_to_user_id_str\": null,\n",
      " \"in_reply_to_screen_name\": null,\n",
      " \"user\": {\n",
      "  \"id\": 1309061233358843909,\n",
      "  \"id_str\": \"1309061233358843909\",\n",
      "  \"name\": \"Piii\",\n",
      "  \"screen_name\": \"vivieshabrina28\",\n",
      "  \"location\": \"\",\n",
      "  \"description\": \"\",\n",
      "  \"url\": null,\n",
      "  \"entities\": {\n",
      "   \"description\": {\n",
      "    \"urls\": []\n",
      "   }\n",
      "  },\n",
      "  \"protected\": false,\n",
      "  \"followers_count\": 4,\n",
      "  \"friends_count\": 3,\n",
      "  \"listed_count\": 0,\n",
      "  \"created_at\": \"Thu Sep 24 09:25:10 +0000 2020\",\n",
      "  \"favourites_count\": 204,\n",
      "  \"utc_offset\": null,\n",
      "  \"time_zone\": null,\n",
      "  \"geo_enabled\": false,\n",
      "  \"verified\": false,\n",
      "  \"statuses_count\": 70,\n",
      "  \"lang\": null,\n",
      "  \"contributors_enabled\": false,\n",
      "  \"is_translator\": false,\n",
      "  \"is_translation_enabled\": false,\n",
      "  \"profile_background_color\": \"F5F8FA\",\n",
      "  \"profile_background_image_url\": null,\n",
      "  \"profile_background_image_url_https\": null,\n",
      "  \"profile_background_tile\": false,\n",
      "  \"profile_image_url\": \"http://pbs.twimg.com/profile_images/1590694750809600000/2CvsisLt_normal.jpg\",\n",
      "  \"profile_image_url_https\": \"https://pbs.twimg.com/profile_images/1590694750809600000/2CvsisLt_normal.jpg\",\n",
      "  \"profile_banner_url\": \"https://pbs.twimg.com/profile_banners/1309061233358843909/1672234013\",\n",
      "  \"profile_link_color\": \"1DA1F2\",\n",
      "  \"profile_sidebar_border_color\": \"C0DEED\",\n",
      "  \"profile_sidebar_fill_color\": \"DDEEF6\",\n",
      "  \"profile_text_color\": \"333333\",\n",
      "  \"profile_use_background_image\": true,\n",
      "  \"has_extended_profile\": true,\n",
      "  \"default_profile\": true,\n",
      "  \"default_profile_image\": false,\n",
      "  \"following\": false,\n",
      "  \"follow_request_sent\": false,\n",
      "  \"notifications\": false,\n",
      "  \"translator_type\": \"none\",\n",
      "  \"withheld_in_countries\": []\n",
      " },\n",
      " \"geo\": null,\n",
      " \"coordinates\": null,\n",
      " \"place\": null,\n",
      " \"contributors\": null,\n",
      " \"retweeted_status\": {\n",
      "  \"created_at\": \"Thu Dec 22 12:40:00 +0000 2022\",\n",
      "  \"id\": 1605905995531800580,\n",
      "  \"id_str\": \"1605905995531800580\",\n",
      "  \"text\": \"Meskipun udah gede gini, ada banyak hal yang kita nggak tau dan cuma bisa dapet dari Ibu. \\n\\nDi spesial Hari Ibu, ap\\u2026 https://t.co/2akBuYMxC4\",\n",
      "  \"truncated\": true,\n",
      "  \"entities\": {\n",
      "   \"hashtags\": [],\n",
      "   \"symbols\": [],\n",
      "   \"user_mentions\": [],\n",
      "   \"urls\": [\n",
      "    {\n",
      "     \"url\": \"https://t.co/2akBuYMxC4\",\n",
      "     \"expanded_url\": \"https://twitter.com/i/web/status/1605905995531800580\",\n",
      "     \"display_url\": \"twitter.com/i/web/status/1\\u2026\",\n",
      "     \"indices\": [\n",
      "      117,\n",
      "      140\n",
      "     ]\n",
      "    }\n",
      "   ]\n",
      "  },\n",
      "  \"metadata\": {\n",
      "   \"iso_language_code\": \"in\",\n",
      "   \"result_type\": \"recent\"\n",
      "  },\n",
      "  \"source\": \"<a href=\\\"https://mobile.twitter.com\\\" rel=\\\"nofollow\\\">Twitter Web App</a>\",\n",
      "  \"in_reply_to_status_id\": null,\n",
      "  \"in_reply_to_status_id_str\": null,\n",
      "  \"in_reply_to_user_id\": null,\n",
      "  \"in_reply_to_user_id_str\": null,\n",
      "  \"in_reply_to_screen_name\": null,\n",
      "  \"user\": {\n",
      "   \"id\": 1306484819233132544,\n",
      "   \"id_str\": \"1306484819233132544\",\n",
      "   \"name\": \"Hidup Lagi\",\n",
      "   \"screen_name\": \"hiduplagi_id\",\n",
      "   \"location\": \"\",\n",
      "   \"description\": \"Ini ditulis biar kamu nggak jadi nyerah hari ini. Bagian dari @riliv_app untuk bikin semua orang punya alasan buat hidup lagi. Cukup #bertahanseharilagi\",\n",
      "   \"url\": null,\n",
      "   \"entities\": {\n",
      "    \"description\": {\n",
      "     \"urls\": []\n",
      "    }\n",
      "   },\n",
      "   \"protected\": false,\n",
      "   \"followers_count\": 15537,\n",
      "   \"friends_count\": 61,\n",
      "   \"listed_count\": 8,\n",
      "   \"created_at\": \"Thu Sep 17 06:47:27 +0000 2020\",\n",
      "   \"favourites_count\": 6,\n",
      "   \"utc_offset\": null,\n",
      "   \"time_zone\": null,\n",
      "   \"geo_enabled\": false,\n",
      "   \"verified\": false,\n",
      "   \"statuses_count\": 62,\n",
      "   \"lang\": null,\n",
      "   \"contributors_enabled\": false,\n",
      "   \"is_translator\": false,\n",
      "   \"is_translation_enabled\": false,\n",
      "   \"profile_background_color\": \"F5F8FA\",\n",
      "   \"profile_background_image_url\": null,\n",
      "   \"profile_background_image_url_https\": null,\n",
      "   \"profile_background_tile\": false,\n",
      "   \"profile_image_url\": \"http://pbs.twimg.com/profile_images/1597096689516433408/yh0aSESj_normal.jpg\",\n",
      "   \"profile_image_url_https\": \"https://pbs.twimg.com/profile_images/1597096689516433408/yh0aSESj_normal.jpg\",\n",
      "   \"profile_banner_url\": \"https://pbs.twimg.com/profile_banners/1306484819233132544/1669606826\",\n",
      "   \"profile_link_color\": \"1DA1F2\",\n",
      "   \"profile_sidebar_border_color\": \"C0DEED\",\n",
      "   \"profile_sidebar_fill_color\": \"DDEEF6\",\n",
      "   \"profile_text_color\": \"333333\",\n",
      "   \"profile_use_background_image\": true,\n",
      "   \"has_extended_profile\": true,\n",
      "   \"default_profile\": true,\n",
      "   \"default_profile_image\": false,\n",
      "   \"following\": false,\n",
      "   \"follow_request_sent\": false,\n",
      "   \"notifications\": false,\n",
      "   \"translator_type\": \"none\",\n",
      "   \"withheld_in_countries\": []\n",
      "  },\n",
      "  \"geo\": null,\n",
      "  \"coordinates\": null,\n",
      "  \"place\": null,\n",
      "  \"contributors\": null,\n",
      "  \"is_quote_status\": false,\n",
      "  \"retweet_count\": 227,\n",
      "  \"favorite_count\": 1474,\n",
      "  \"favorited\": false,\n",
      "  \"retweeted\": false,\n",
      "  \"possibly_sensitive\": false,\n",
      "  \"lang\": \"in\"\n",
      " },\n",
      " \"is_quote_status\": false,\n",
      " \"retweet_count\": 227,\n",
      " \"favorite_count\": 0,\n",
      " \"favorited\": false,\n",
      " \"retweeted\": false,\n",
      " \"lang\": \"in\"\n",
      "}\n"
     ]
    }
   ],
   "source": [
    "import json\n",
    "\n",
    "# Set this variable to a trending topic, \n",
    "# or anything else for that matter. The example query below\n",
    "# was a trending topic when this content was being developed\n",
    "# and is used throughout the remainder of this chapter.\n",
    "\n",
    "q = '#MothersDay' \n",
    "\n",
    "count = 100\n",
    "\n",
    "# Import unquote to prevent url encoding errors in next_results\n",
    "from urllib.parse import unquote\n",
    "\n",
    "# See https://dev.twitter.com/rest/reference/get/search/tweets\n",
    "\n",
    "search_results = twitter_api.search.tweets(q=q, count=count)\n",
    "\n",
    "statuses = search_results['statuses']\n",
    "\n",
    "\n",
    "# Iterate through 5 more batches of results by following the cursor\n",
    "for _ in range(5):\n",
    "    print('Length of statuses', len(statuses))\n",
    "    try:\n",
    "        next_results = search_results['search_metadata']['next_results']\n",
    "    except KeyError as e: # No more results when next_results doesn't exist\n",
    "        break\n",
    "        \n",
    "    # Create a dictionary from next_results, which has the following form:\n",
    "    # ?max_id=847960489447628799&q=%23RIPSelena&count=100&include_entities=1\n",
    "    kwargs = dict([ kv.split('=') for kv in unquote(next_results[1:]).split(\"&\") ])\n",
    "    \n",
    "    search_results = twitter_api.search.tweets(**kwargs)\n",
    "    statuses += search_results['statuses']\n",
    "\n",
    "# Show one sample search result by slicing the list...\n",
    "print(json.dumps(statuses[0], indent=1))"
   ]
  },
  {
   "cell_type": "code",
   "execution_count": 8,
   "metadata": {},
   "outputs": [
    {
     "name": "stdout",
     "output_type": "stream",
     "text": [
      "\n",
      "RT @hiduplagi_id: Meskipun udah gede gini, ada banyak hal yang kita nggak tau dan cuma bisa dapet dari Ibu. \n",
      "\n",
      "Di spesial Hari Ibu, apa hal…\n",
      "Favorites:  0\n",
      "Retweets:  227\n",
      "\n",
      "Get my art printed on awesome products at Redbubble #RBandME https://t.co/Ml67UkVH4P… #findyourthing #redbubble… https://t.co/HSNJIX5Unk\n",
      "Favorites:  0\n",
      "Retweets:  0\n",
      "\n",
      "Be unique, be different, buy an alternative #Logo from Buckshot https://t.co/DOHN1RsqCg… #uniquegifts #redbubble… https://t.co/3qNxHNZh9r\n",
      "Favorites:  0\n",
      "Retweets:  0\n",
      "\n",
      "Get my art printed on awesome products at Redbubble #RBandME https://t.co/ai87pFNxi8… #findyourthing #redbubble… https://t.co/GrJJvP8s5U\n",
      "Favorites:  0\n",
      "Retweets:  0\n",
      "\n",
      "Just look at these beautiful hand painted candles by Love Letters! A perfect #mothersday &amp; #easter gift. Pop the da… https://t.co/Wrg0Rnt3jm\n",
      "Favorites:  0\n",
      "Retweets:  0\n",
      "\n",
      "Get my art printed on awesome products at Redbubble #RBandME https://t.co/81vJJsNZLh… #findyourthing #redbubble… https://t.co/VfXOXO7DNf\n",
      "Favorites:  1\n",
      "Retweets:  0\n",
      "\n",
      "RT @okx: ₿ull or ₿ear, surprise your mom with your #crypto earnings this #MothersDay 💐 😉 \n",
      "\n",
      "🎉 Celebrate this #SpecialDay with #OKX to share…\n",
      "Favorites:  0\n",
      "Retweets:  629\n",
      "\n",
      "Get my art printed on awesome products at Redbubble #RBandME https://t.co/y3VyDgUqVW… #findyourthing #redbubble… https://t.co/4JQFS6Olx3\n",
      "Favorites:  0\n",
      "Retweets:  0\n",
      "\n",
      "Get my art printed on awesome products at Redbubble #RBandME https://t.co/ASZaGpmSFr… #findyourthing #redbubble… https://t.co/ZFnBKM9Vvt\n",
      "Favorites:  0\n",
      "Retweets:  0\n",
      "\n",
      "Get my art printed on awesome products at Redbubble #RBandME https://t.co/3IkzeYL3wD… #findyourthing #redbubble… https://t.co/QklylbT12Q\n",
      "Favorites:  0\n",
      "Retweets:  0\n"
     ]
    }
   ],
   "source": [
    "for i in range(10):\n",
    "    print()\n",
    "    print(statuses[i]['text'])\n",
    "    print('Favorites: ', statuses[i]['favorite_count'])\n",
    "    print('Retweets: ', statuses[i]['retweet_count'])"
   ]
  },
  {
   "cell_type": "code",
   "execution_count": 9,
   "metadata": {},
   "outputs": [
    {
     "name": "stdout",
     "output_type": "stream",
     "text": [
      "[\n",
      " \"RT @hiduplagi_id: Meskipun udah gede gini, ada banyak hal yang kita nggak tau dan cuma bisa dapet dari Ibu. \\n\\nDi spesial Hari Ibu, apa hal\\u2026\",\n",
      " \"Get my art printed on awesome products at Redbubble #RBandME https://t.co/Ml67UkVH4P\\u2026 #findyourthing #redbubble\\u2026 https://t.co/HSNJIX5Unk\",\n",
      " \"Be unique, be different, buy an alternative #Logo from Buckshot https://t.co/DOHN1RsqCg\\u2026 #uniquegifts #redbubble\\u2026 https://t.co/3qNxHNZh9r\",\n",
      " \"Get my art printed on awesome products at Redbubble #RBandME https://t.co/ai87pFNxi8\\u2026 #findyourthing #redbubble\\u2026 https://t.co/GrJJvP8s5U\",\n",
      " \"Just look at these beautiful hand painted candles by Love Letters! A perfect #mothersday &amp; #easter gift. Pop the da\\u2026 https://t.co/Wrg0Rnt3jm\"\n",
      "]\n",
      "[\n",
      " \"hiduplagi_id\",\n",
      " \"okx\",\n",
      " \"Hipollyti\",\n",
      " \"TheLitGiftShop\",\n",
      " \"okx\"\n",
      "]\n",
      "[\n",
      " \"RBandME\",\n",
      " \"findyourthing\",\n",
      " \"redbubble\",\n",
      " \"Logo\",\n",
      " \"uniquegifts\"\n",
      "]\n",
      "[\n",
      " \"RT\",\n",
      " \"@hiduplagi_id:\",\n",
      " \"Meskipun\",\n",
      " \"udah\",\n",
      " \"gede\"\n",
      "]\n"
     ]
    }
   ],
   "source": [
    "status_texts = [ status['text'] \n",
    "                 for status in statuses ]\n",
    "\n",
    "screen_names = [ user_mention['screen_name'] \n",
    "                 for status in statuses\n",
    "                     for user_mention in status['entities']['user_mentions'] ]\n",
    "\n",
    "hashtags = [ hashtag['text'] \n",
    "             for status in statuses\n",
    "                 for hashtag in status['entities']['hashtags'] ]\n",
    "\n",
    "# Compute a collection of all words from all tweets\n",
    "words = [ w \n",
    "          for t in status_texts \n",
    "              for w in t.split() ]\n",
    "\n",
    "# Explore the first 5 items for each...\n",
    "\n",
    "print(json.dumps(status_texts[0:5], indent=1))\n",
    "print(json.dumps(screen_names[0:5], indent=1) )\n",
    "print(json.dumps(hashtags[0:5], indent=1))\n",
    "print(json.dumps(words[0:5], indent=1))"
   ]
  },
  {
   "cell_type": "code",
   "execution_count": 10,
   "metadata": {},
   "outputs": [
    {
     "name": "stdout",
     "output_type": "stream",
     "text": [
      "[('my', 344), ('printed', 329), ('at', 328), ('on', 327), ('Get', 321), ('art', 321), ('awesome', 321), ('Redbubble', 321), ('#RBandME', 321), ('products', 316)]\n",
      "\n",
      "[('okx', 34), ('CharmelLtd', 27), ('HuobiGlobal', 16), ('Nirab23', 8), ('Islam_pfr', 7), ('Etsy', 5), ('hdayrdesign', 5), ('Hipollyti', 4), ('elahe4peace', 4), ('woodenyoulove', 4)]\n",
      "\n",
      "[('RBandME', 321), ('redbubble', 311), ('findyourthing', 294), ('MothersDay', 96), ('mothersday', 40), ('crypto', 34), ('SpecialDay', 34), ('OKX', 34), ('uniquegifts', 27), ('artist', 17)]\n",
      "\n"
     ]
    }
   ],
   "source": [
    "from collections import Counter\n",
    "\n",
    "for item in [words, screen_names, hashtags]:\n",
    "    c = Counter(item)\n",
    "    print(c.most_common()[:10]) # top 10\n",
    "    print()"
   ]
  },
  {
   "cell_type": "code",
   "execution_count": 12,
   "metadata": {},
   "outputs": [
    {
     "name": "stdout",
     "output_type": "stream",
     "text": [
      "Defaulting to user installation because normal site-packages is not writeable\n",
      "Collecting prettytable\n",
      "  Downloading prettytable-3.6.0-py3-none-any.whl (27 kB)\n",
      "Requirement already satisfied: wcwidth in /opt/conda/envs/python/lib/python3.8/site-packages (from prettytable) (0.2.5)\n",
      "Installing collected packages: prettytable\n",
      "Successfully installed prettytable-3.6.0\n",
      "Note: you may need to restart the kernel to use updated packages.\n"
     ]
    }
   ],
   "source": [
    "pip install prettytable"
   ]
  },
  {
   "cell_type": "code",
   "execution_count": 13,
   "metadata": {},
   "outputs": [
    {
     "name": "stdout",
     "output_type": "stream",
     "text": [
      "+-----------+-------+\n",
      "| Word      | Count |\n",
      "+-----------+-------+\n",
      "| my        |   344 |\n",
      "| printed   |   329 |\n",
      "| at        |   328 |\n",
      "| on        |   327 |\n",
      "| Get       |   321 |\n",
      "| art       |   321 |\n",
      "| awesome   |   321 |\n",
      "| Redbubble |   321 |\n",
      "| #RBandME  |   321 |\n",
      "| products  |   316 |\n",
      "+-----------+-------+\n",
      "+---------------+-------+\n",
      "| Screen Name   | Count |\n",
      "+---------------+-------+\n",
      "| okx           |    34 |\n",
      "| CharmelLtd    |    27 |\n",
      "| HuobiGlobal   |    16 |\n",
      "| Nirab23       |     8 |\n",
      "| Islam_pfr     |     7 |\n",
      "| Etsy          |     5 |\n",
      "| hdayrdesign   |     5 |\n",
      "| Hipollyti     |     4 |\n",
      "| elahe4peace   |     4 |\n",
      "| woodenyoulove |     4 |\n",
      "+---------------+-------+\n",
      "+---------------+-------+\n",
      "| Hashtag       | Count |\n",
      "+---------------+-------+\n",
      "| RBandME       |   321 |\n",
      "| redbubble     |   311 |\n",
      "| findyourthing |   294 |\n",
      "| MothersDay    |    96 |\n",
      "| mothersday    |    40 |\n",
      "| crypto        |    34 |\n",
      "| SpecialDay    |    34 |\n",
      "| OKX           |    34 |\n",
      "| uniquegifts   |    27 |\n",
      "| artist        |    17 |\n",
      "+---------------+-------+\n"
     ]
    }
   ],
   "source": [
    "from prettytable import PrettyTable\n",
    "\n",
    "for label, data in (('Word', words), \n",
    "                    ('Screen Name', screen_names), \n",
    "                    ('Hashtag', hashtags)):\n",
    "    pt = PrettyTable(field_names=[label, 'Count']) \n",
    "    c = Counter(data)\n",
    "    [ pt.add_row(kv) for kv in c.most_common()[:10] ]\n",
    "    pt.align[label], pt.align['Count'] = 'l', 'r' # Set column alignment\n",
    "    print(pt)"
   ]
  },
  {
   "cell_type": "code",
   "execution_count": 14,
   "metadata": {},
   "outputs": [
    {
     "name": "stdout",
     "output_type": "stream",
     "text": [
      "Defaulting to user installation because normal site-packages is not writeable\n",
      "Requirement already satisfied: prettyTable in ./.local/lib/python3.8/site-packages (3.6.0)\n",
      "Requirement already satisfied: wcwidth in /opt/conda/envs/python/lib/python3.8/site-packages (from prettyTable) (0.2.5)\n",
      "Note: you may need to restart the kernel to use updated packages.\n"
     ]
    }
   ],
   "source": [
    "pip install prettyTable"
   ]
  },
  {
   "cell_type": "code",
   "execution_count": 15,
   "metadata": {},
   "outputs": [
    {
     "name": "stdout",
     "output_type": "stream",
     "text": [
      "0.22829615666561945\n",
      "0.32432432432432434\n",
      "0.16281512605042017\n",
      "15.915\n"
     ]
    }
   ],
   "source": [
    "# A function for computing lexical diversity\n",
    "def lexical_diversity(tokens):\n",
    "    return len(set(tokens))/len(tokens) \n",
    "\n",
    "# A function for computing the average number of words per tweet\n",
    "def average_words(statuses):\n",
    "    total_words = sum([ len(s.split()) for s in statuses ]) \n",
    "    return total_words/len(statuses)\n",
    "\n",
    "print(lexical_diversity(words))\n",
    "print(lexical_diversity(screen_names))\n",
    "print(lexical_diversity(hashtags))\n",
    "print(average_words(status_texts))"
   ]
  },
  {
   "cell_type": "code",
   "execution_count": 16,
   "metadata": {},
   "outputs": [
    {
     "name": "stdout",
     "output_type": "stream",
     "text": [
      "+-------+-------------+---------------------+----------------------------------------------------+\n",
      "| Count | Screen Name | Tweet ID            | Text                                               |\n",
      "+-------+-------------+---------------------+----------------------------------------------------+\n",
      "| 5862  | Hipollyti   | 1523030740510056449 | RT @Hipollyti: I think every working mom probably  |\n",
      "|       |             |                     | feels the same thing. You go through a big chunk   |\n",
      "|       |             |                     | of time where you’re just thinking : Thi…          |\n",
      "| 5862  | Hipollyti   | 1523030740510056449 | RT @Hipollyti: I think every working mom probably  |\n",
      "|       |             |                     | feels the same thing. You go through a big chunk   |\n",
      "|       |             |                     | of time where you’re just thinking : Thi…          |\n",
      "| 5862  | Hipollyti   | 1523030740510056449 | RT @Hipollyti: I think every working mom probably  |\n",
      "|       |             |                     | feels the same thing. You go through a big chunk   |\n",
      "|       |             |                     | of time where you’re just thinking : Thi…          |\n",
      "| 5862  | Hipollyti   | 1523030740510056449 | RT @Hipollyti: I think every working mom probably  |\n",
      "|       |             |                     | feels the same thing. You go through a big chunk   |\n",
      "|       |             |                     | of time where you’re just thinking : Thi…          |\n",
      "| 4582  | insan_honey | 1259296791679426562 | RT @insan_honey: Only one woman is the best in the |\n",
      "|       |             |                     | world and whom I love the most, she is my MOTHER.… |\n",
      "+-------+-------------+---------------------+----------------------------------------------------+\n"
     ]
    }
   ],
   "source": [
    "retweets = [\n",
    "            # Store out a tuple of these three values ...\n",
    "            (status['retweet_count'], \n",
    "             status['retweeted_status']['user']['screen_name'],\n",
    "             status['retweeted_status']['id'],\n",
    "             status['text']) \n",
    "            \n",
    "            # ... for each status ...\n",
    "            for status in statuses \n",
    "            \n",
    "            # ... so long as the status meets this condition.\n",
    "                if 'retweeted_status' in status.keys()\n",
    "           ]\n",
    "\n",
    "# Slice off the first 5 from the sorted results and display each item in the tuple\n",
    "\n",
    "pt = PrettyTable(field_names=['Count', 'Screen Name', 'Tweet ID', 'Text'])\n",
    "[ pt.add_row(row) for row in sorted(retweets, reverse=True)[:5] ]\n",
    "pt.max_width['Text'] = 50\n",
    "pt.align= 'l'\n",
    "print(pt)"
   ]
  },
  {
   "cell_type": "code",
   "execution_count": 17,
   "metadata": {},
   "outputs": [
    {
     "name": "stdout",
     "output_type": "stream",
     "text": [
      "['vijoumolce1988', 'driftourare1988', 'ShinobiSasha', 'livingmybestie', 'Rockawaytheday']\n"
     ]
    }
   ],
   "source": [
    "# Get the original tweet id for a tweet from its retweeted_status node \n",
    "# and insert it here\n",
    "\n",
    "_retweets = twitter_api.statuses.retweets(id=862359093398261760)\n",
    "print([r['user']['screen_name'] for r in _retweets])"
   ]
  },
  {
   "cell_type": "code",
   "execution_count": 18,
   "metadata": {},
   "outputs": [
    {
     "name": "stdout",
     "output_type": "stream",
     "text": [
      "Defaulting to user installation because normal site-packages is not writeable\n",
      "Requirement already satisfied: matplotlib in /opt/conda/envs/python/lib/python3.8/site-packages (3.5.1)\n",
      "Requirement already satisfied: pillow>=6.2.0 in /opt/conda/envs/python/lib/python3.8/site-packages (from matplotlib) (9.0.1)\n",
      "Requirement already satisfied: pyparsing>=2.2.1 in /opt/conda/envs/python/lib/python3.8/site-packages (from matplotlib) (3.0.7)\n",
      "Requirement already satisfied: python-dateutil>=2.7 in /opt/conda/envs/python/lib/python3.8/site-packages (from matplotlib) (2.8.1)\n",
      "Requirement already satisfied: cycler>=0.10 in /opt/conda/envs/python/lib/python3.8/site-packages (from matplotlib) (0.11.0)\n",
      "Requirement already satisfied: fonttools>=4.22.0 in /opt/conda/envs/python/lib/python3.8/site-packages (from matplotlib) (4.29.1)\n",
      "Requirement already satisfied: numpy>=1.17 in /opt/conda/envs/python/lib/python3.8/site-packages (from matplotlib) (1.22.2)\n",
      "Requirement already satisfied: kiwisolver>=1.0.1 in /opt/conda/envs/python/lib/python3.8/site-packages (from matplotlib) (1.3.2)\n",
      "Requirement already satisfied: packaging>=20.0 in /opt/conda/envs/python/lib/python3.8/site-packages (from matplotlib) (21.3)\n",
      "Requirement already satisfied: six>=1.5 in /opt/conda/envs/python/lib/python3.8/site-packages (from python-dateutil>=2.7->matplotlib) (1.15.0)\n",
      "Note: you may need to restart the kernel to use updated packages.\n"
     ]
    }
   ],
   "source": [
    "pip install matplotlib"
   ]
  },
  {
   "cell_type": "code",
   "execution_count": 19,
   "metadata": {},
   "outputs": [
    {
     "data": {
      "text/plain": [
       "Text(0.5, 0, 'Word Rank')"
      ]
     },
     "execution_count": 19,
     "metadata": {},
     "output_type": "execute_result"
    },
    {
     "data": {
      "image/png": "[encoded data removed]",
      "text/plain": [
       "<Figure size 432x288 with 1 Axes>"
      ]
     },
     "metadata": {
      "needs_background": "light"
     },
     "output_type": "display_data"
    }
   ],
   "source": [
    "import matplotlib.pyplot as plt\n",
    "%matplotlib inline\n",
    "word_counts = sorted(Counter(words).values(), reverse=True)\n",
    "\n",
    "plt.loglog(word_counts)\n",
    "plt.ylabel(\"Freq\")\n",
    "plt.xlabel(\"Word Rank\")"
   ]
  },
  {
   "cell_type": "code",
   "execution_count": 20,
   "metadata": {},
   "outputs": [
    {
     "data": {
      "image/png": "[encoded data removed]",
      "text/plain": [
       "<Figure size 432x288 with 1 Axes>"
      ]
     },
     "metadata": {
      "needs_background": "light"
     },
     "output_type": "display_data"
    },
    {
     "data": {
      "image/png": "[encoded data removed]",
      "text/plain": [
       "<Figure size 432x288 with 1 Axes>"
      ]
     },
     "metadata": {
      "needs_background": "light"
     },
     "output_type": "display_data"
    },
    {
     "data": {
      "image/png": "[encoded data removed]",
      "text/plain": [
       "<Figure size 432x288 with 1 Axes>"
      ]
     },
     "metadata": {
      "needs_background": "light"
     },
     "output_type": "display_data"
    },
    {
     "data": {
      "text/plain": [
       "<Figure size 432x288 with 0 Axes>"
      ]
     },
     "metadata": {},
     "output_type": "display_data"
    }
   ],
   "source": [
    "for label, data in (('Words', words), \n",
    "                    ('Screen Names', screen_names), \n",
    "                    ('Hashtags', hashtags)):\n",
    "\n",
    "    # Build a frequency map for each set of data\n",
    "    # and plot the values\n",
    "    c = Counter(data)\n",
    "    plt.hist(list(c.values()))\n",
    "    \n",
    "    # Add a title and y-label ...\n",
    "    plt.title(label)\n",
    "    plt.ylabel(\"Number of items in bin\")\n",
    "    plt.xlabel(\"Bins (number of times an item appeared)\")\n",
    "    \n",
    "    # ... and display as a new figure\n",
    "    plt.figure()"
   ]
  },
  {
   "cell_type": "code",
   "execution_count": 21,
   "metadata": {},
   "outputs": [
    {
     "data": {
      "text/plain": [
       "Text(0, 0.5, 'Number of tweets in bin')"
      ]
     },
     "execution_count": 21,
     "metadata": {},
     "output_type": "execute_result"
    },
    {
     "data": {
      "image/png": "[encoded data removed]",
      "text/plain": [
       "<Figure size 432x288 with 1 Axes>"
      ]
     },
     "metadata": {
      "needs_background": "light"
     },
     "output_type": "display_data"
    }
   ],
   "source": [
    "# Using underscores while unpacking values in\n",
    "# a tuple is idiomatic for discarding them\n",
    "\n",
    "counts = [count for count, _, _, _ in retweets]\n",
    "\n",
    "plt.hist(counts)\n",
    "plt.title('Retweets')\n",
    "plt.xlabel('Bins (number of times retweeted)')\n",
    "plt.ylabel('Number of tweets in bin')"
   ]
  }
 ],
 "metadata": {
  "kernelspec": {
   "display_name": "Python 3",
   "language": "python",
   "name": "python3"
  },
  "language_info": {
   "codemirror_mode": {
    "name": "ipython",
    "version": 3
   },
   "file_extension": ".py",
   "mimetype": "text/x-python",
   "name": "python",
   "nbconvert_exporter": "python",
   "pygments_lexer": "ipython3",
   "version": "3.8.5"
  },
  "nteract": {
   "version": "0.28.0"
  }
 },
 "nbformat": 4,
 "nbformat_minor": 5
}
